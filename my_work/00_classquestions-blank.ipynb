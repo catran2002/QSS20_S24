{
 "cells": [
  {
   "cell_type": "markdown",
   "metadata": {},
   "source": [
    "# 0. Load imports "
   ]
  },
  {
   "cell_type": "code",
   "execution_count": 1,
   "metadata": {},
   "outputs": [],
   "source": [
    "## imports\n",
    "import pandas as pd\n",
    "import numpy as np\n",
    "import re\n",
    "\n",
    "## print multiple things from same cell\n",
    "from IPython.core.interactiveshell import InteractiveShell\n",
    "InteractiveShell.ast_node_interactivity = \"all\"\n",
    "\n",
    "## load data on 2020 crimes in DC\n",
    "df = dc_crim_2020 = pd.read_csv(\"https://opendata.arcgis.com/datasets/f516e0dd7b614b088ad781b0c4002331_2.csv\")"
   ]
  },
  {
   "cell_type": "markdown",
   "metadata": {},
   "source": [
    "# 1. Questions: list comprehension\n",
    "\n",
    "- In class example, why did we need the \"courses\" at the beginning of the list iteration\n",
    "- How did the join syntax work in the example where we paste together offenses from same ward"
   ]
  },
  {
   "cell_type": "code",
   "execution_count": 2,
   "metadata": {},
   "outputs": [],
   "source": [
    "## toy example\n",
    "\n",
    "### pool of courses\n",
    "all_courses = [\"QSS20\", \"QSS17\", \"GOV10\", \"GOV4\", \"CSC1\"]\n"
   ]
  },
  {
   "cell_type": "markdown",
   "metadata": {},
   "source": [
    "## 1.1 Application 1: filtering to a smaller list\n",
    "\n",
    "When we might use: have a lot of columns in a dataframe; want to filter to a smaller set using some pattern"
   ]
  },
  {
   "cell_type": "code",
   "execution_count": 3,
   "metadata": {},
   "outputs": [
    {
     "data": {
      "text/plain": [
       "['GOV10', 'GOV4']"
      ]
     },
     "execution_count": 3,
     "metadata": {},
     "output_type": "execute_result"
    }
   ],
   "source": [
    "### pull out ones that contain GOV in the string\n",
    "gov_c = [course for course in all_courses\n",
    "        if \"GOV\" in course]\n",
    "gov_c # result"
   ]
  },
  {
   "cell_type": "code",
   "execution_count": 4,
   "metadata": {},
   "outputs": [
    {
     "data": {
      "text/plain": [
       "True"
      ]
     },
     "execution_count": 4,
     "metadata": {},
     "output_type": "execute_result"
    }
   ],
   "source": [
    "### showing that the \"course\" is just a placeholder/\n",
    "### arbitrary interator\n",
    "gov_c_alt = [x for x in all_courses if \"GOV\" in x]\n",
    "\n",
    "gov_c == gov_c_alt"
   ]
  },
  {
   "cell_type": "code",
   "execution_count": null,
   "metadata": {},
   "outputs": [],
   "source": []
  },
  {
   "cell_type": "markdown",
   "metadata": {},
   "source": [
    "## 1.2 Application two: keep all objects in the list but do some transformation"
   ]
  },
  {
   "cell_type": "code",
   "execution_count": 5,
   "metadata": {},
   "outputs": [
    {
     "data": {
      "text/plain": [
       "['QSS20', 'QSS17', 'GOV10', 'GOV4', 'CSC1']"
      ]
     },
     "execution_count": 5,
     "metadata": {},
     "output_type": "execute_result"
    },
    {
     "data": {
      "text/plain": [
       "['QSS', 'QSS', 'GOV', 'GOV', 'CSC']"
      ]
     },
     "execution_count": 5,
     "metadata": {},
     "output_type": "execute_result"
    }
   ],
   "source": [
    "all_courses\n",
    "\n",
    "## strip the numbers from the course names\n",
    "courses_prefix = [x[:3] for x in all_courses] # slicing in order to get the first three letters\n",
    "courses_prefix # could then find unique elements\n"
   ]
  },
  {
   "cell_type": "code",
   "execution_count": 17,
   "metadata": {},
   "outputs": [
    {
     "data": {
      "text/plain": [
       "'QSS #:)# QSS #:)# GOV #:)# GOV #:)# CSC'"
      ]
     },
     "execution_count": 17,
     "metadata": {},
     "output_type": "execute_result"
    }
   ],
   "source": [
    "# Join all together example\n",
    "\" #:)# \".join(courses_prefix) # separate by semicolon"
   ]
  },
  {
   "cell_type": "markdown",
   "metadata": {},
   "source": [
    "#### Your turn: Using original list, add \"dartmouth_\" prefix to the course name"
   ]
  },
  {
   "cell_type": "code",
   "execution_count": 24,
   "metadata": {},
   "outputs": [
    {
     "data": {
      "text/plain": [
       "['QSS20',\n",
       " 'dartmouth_QSS17',\n",
       " 'dartmouth_GOV10',\n",
       " 'dartmouth_GOV4',\n",
       " 'dartmouth_CSC1']"
      ]
     },
     "execution_count": 24,
     "metadata": {},
     "output_type": "execute_result"
    }
   ],
   "source": [
    "b = \"#dartmouth_\".join(all_courses)\n",
    "b.split(\"#\")"
   ]
  },
  {
   "cell_type": "code",
   "execution_count": 26,
   "metadata": {},
   "outputs": [
    {
     "data": {
      "text/plain": [
       "['dartmouth_QSS20',\n",
       " 'dartmouth_QSS17',\n",
       " 'dartmouth_GOV10',\n",
       " 'dartmouth_GOV4',\n",
       " 'dartmouth_CSC1']"
      ]
     },
     "execution_count": 26,
     "metadata": {},
     "output_type": "execute_result"
    }
   ],
   "source": [
    "dart_course = [\"dartmouth_\" + course for course in all_courses]\n",
    "dart_course"
   ]
  },
  {
   "cell_type": "markdown",
   "metadata": {},
   "source": [
    "## 1.3 Subsetting columns"
   ]
  },
  {
   "cell_type": "markdown",
   "metadata": {},
   "source": [
    "Use list comprehension to filter to columns with id in the string. Then, create a new dataframe called df1 that contains only column heads with \"id\""
   ]
  },
  {
   "cell_type": "code",
   "execution_count": 27,
   "metadata": {},
   "outputs": [
    {
     "data": {
      "text/plain": [
       "['BID', 'OBJECTID', 'OCTO_RECORD_ID']"
      ]
     },
     "execution_count": 27,
     "metadata": {},
     "output_type": "execute_result"
    },
    {
     "data": {
      "text/html": [
       "<div>\n",
       "<style scoped>\n",
       "    .dataframe tbody tr th:only-of-type {\n",
       "        vertical-align: middle;\n",
       "    }\n",
       "\n",
       "    .dataframe tbody tr th {\n",
       "        vertical-align: top;\n",
       "    }\n",
       "\n",
       "    .dataframe thead th {\n",
       "        text-align: right;\n",
       "    }\n",
       "</style>\n",
       "<table border=\"1\" class=\"dataframe\">\n",
       "  <thead>\n",
       "    <tr style=\"text-align: right;\">\n",
       "      <th></th>\n",
       "      <th>BID</th>\n",
       "      <th>OBJECTID</th>\n",
       "      <th>OCTO_RECORD_ID</th>\n",
       "    </tr>\n",
       "  </thead>\n",
       "  <tbody>\n",
       "    <tr>\n",
       "      <th>0</th>\n",
       "      <td>NaN</td>\n",
       "      <td>499862475</td>\n",
       "      <td>NaN</td>\n",
       "    </tr>\n",
       "    <tr>\n",
       "      <th>1</th>\n",
       "      <td>NaN</td>\n",
       "      <td>499862478</td>\n",
       "      <td>NaN</td>\n",
       "    </tr>\n",
       "    <tr>\n",
       "      <th>2</th>\n",
       "      <td>NaN</td>\n",
       "      <td>499862479</td>\n",
       "      <td>NaN</td>\n",
       "    </tr>\n",
       "    <tr>\n",
       "      <th>3</th>\n",
       "      <td>NaN</td>\n",
       "      <td>499862481</td>\n",
       "      <td>NaN</td>\n",
       "    </tr>\n",
       "    <tr>\n",
       "      <th>4</th>\n",
       "      <td>NaN</td>\n",
       "      <td>499862484</td>\n",
       "      <td>NaN</td>\n",
       "    </tr>\n",
       "    <tr>\n",
       "      <th>...</th>\n",
       "      <td>...</td>\n",
       "      <td>...</td>\n",
       "      <td>...</td>\n",
       "    </tr>\n",
       "    <tr>\n",
       "      <th>27927</th>\n",
       "      <td>NaN</td>\n",
       "      <td>500401564</td>\n",
       "      <td>NaN</td>\n",
       "    </tr>\n",
       "    <tr>\n",
       "      <th>27928</th>\n",
       "      <td>NaN</td>\n",
       "      <td>500401587</td>\n",
       "      <td>NaN</td>\n",
       "    </tr>\n",
       "    <tr>\n",
       "      <th>27929</th>\n",
       "      <td>NaN</td>\n",
       "      <td>500401591</td>\n",
       "      <td>NaN</td>\n",
       "    </tr>\n",
       "    <tr>\n",
       "      <th>27930</th>\n",
       "      <td>NaN</td>\n",
       "      <td>500401595</td>\n",
       "      <td>NaN</td>\n",
       "    </tr>\n",
       "    <tr>\n",
       "      <th>27931</th>\n",
       "      <td>NaN</td>\n",
       "      <td>500401600</td>\n",
       "      <td>NaN</td>\n",
       "    </tr>\n",
       "  </tbody>\n",
       "</table>\n",
       "<p>27932 rows × 3 columns</p>\n",
       "</div>"
      ],
      "text/plain": [
       "       BID   OBJECTID  OCTO_RECORD_ID\n",
       "0      NaN  499862475             NaN\n",
       "1      NaN  499862478             NaN\n",
       "2      NaN  499862479             NaN\n",
       "3      NaN  499862481             NaN\n",
       "4      NaN  499862484             NaN\n",
       "...    ...        ...             ...\n",
       "27927  NaN  500401564             NaN\n",
       "27928  NaN  500401587             NaN\n",
       "27929  NaN  500401591             NaN\n",
       "27930  NaN  500401595             NaN\n",
       "27931  NaN  500401600             NaN\n",
       "\n",
       "[27932 rows x 3 columns]"
      ]
     },
     "execution_count": 27,
     "metadata": {},
     "output_type": "execute_result"
    }
   ],
   "source": [
    "id_cols = [col for col in df.columns if \"ID\" in col]\n",
    "id_cols\n",
    "\n",
    "## Then, filter the data\n",
    "df[id_cols]"
   ]
  },
  {
   "cell_type": "code",
   "execution_count": null,
   "metadata": {},
   "outputs": [],
   "source": []
  },
  {
   "cell_type": "markdown",
   "metadata": {},
   "source": [
    "## 1.4 Comprehension for numbers\n",
    "\n",
    "Here we compare two ways of creating a list of even numbers."
   ]
  },
  {
   "cell_type": "code",
   "execution_count": 30,
   "metadata": {},
   "outputs": [
    {
     "data": {
      "text/plain": [
       "array([   0,    1,    2, ..., 9997, 9998, 9999])"
      ]
     },
     "execution_count": 30,
     "metadata": {},
     "output_type": "execute_result"
    }
   ],
   "source": [
    "num_list = np.arange(10000)\n",
    "num_list"
   ]
  },
  {
   "cell_type": "code",
   "execution_count": 31,
   "metadata": {
    "scrolled": true
   },
   "outputs": [
    {
     "name": "stdout",
     "output_type": "stream",
     "text": [
      "CPU times: user 1.7 ms, sys: 411 µs, total: 2.11 ms\n",
      "Wall time: 2.77 ms\n"
     ]
    }
   ],
   "source": [
    "%%time\n",
    "even_nums = [i for i in num_list if (i % 2) == 0]"
   ]
  },
  {
   "cell_type": "code",
   "execution_count": 32,
   "metadata": {},
   "outputs": [
    {
     "name": "stdout",
     "output_type": "stream",
     "text": [
      "CPU times: user 570 µs, sys: 986 µs, total: 1.56 ms\n",
      "Wall time: 2.07 ms\n"
     ]
    },
    {
     "data": {
      "text/plain": [
       "array([   0,    2,    4, ..., 9994, 9996, 9998])"
      ]
     },
     "execution_count": 32,
     "metadata": {},
     "output_type": "execute_result"
    }
   ],
   "source": [
    "%%time\n",
    "num_list[~(num_list % 2).astype(bool)] # tells what type we want it to be, quick data casting. the tilde flips it"
   ]
  },
  {
   "cell_type": "markdown",
   "metadata": {},
   "source": [
    "#### Your turn: Extract all numbers in num_list that end in 7"
   ]
  },
  {
   "cell_type": "code",
   "execution_count": 34,
   "metadata": {},
   "outputs": [
    {
     "name": "stdout",
     "output_type": "stream",
     "text": [
      "CPU times: user 2.13 ms, sys: 234 µs, total: 2.36 ms\n",
      "Wall time: 2.45 ms\n"
     ]
    }
   ],
   "source": [
    "%%time\n",
    "inc_7 = [num for num in num_list if str(num)[-1] == \"7\"]"
   ]
  },
  {
   "cell_type": "code",
   "execution_count": 35,
   "metadata": {},
   "outputs": [
    {
     "name": "stdout",
     "output_type": "stream",
     "text": [
      "CPU times: user 1.61 ms, sys: 109 µs, total: 1.72 ms\n",
      "Wall time: 1.82 ms\n"
     ]
    }
   ],
   "source": [
    "%%time\n",
    "seven_list = [num for num in num_list if num % 10 == 7]"
   ]
  },
  {
   "cell_type": "code",
   "execution_count": 37,
   "metadata": {},
   "outputs": [
    {
     "ename": "SyntaxError",
     "evalue": "closing parenthesis ')' does not match opening parenthesis '[' (<unknown>, line 1)",
     "output_type": "error",
     "traceback": [
      "Traceback \u001b[0;36m(most recent call last)\u001b[0m:\n",
      "\u001b[0m  File \u001b[1;32m/opt/anaconda3/lib/python3.11/site-packages/IPython/core/interactiveshell.py:3553\u001b[0m in \u001b[1;35mrun_code\u001b[0m\n    exec(code_obj, self.user_global_ns, self.user_ns)\u001b[0m\n",
      "\u001b[0m  Cell \u001b[1;32mIn[37], line 1\u001b[0m\n    get_ipython().run_cell_magic('time', '', 'num_list[ (num_list) % 10) == 7]\\n')\u001b[0m\n",
      "\u001b[0m  File \u001b[1;32m/opt/anaconda3/lib/python3.11/site-packages/IPython/core/interactiveshell.py:2517\u001b[0m in \u001b[1;35mrun_cell_magic\u001b[0m\n    result = fn(*args, **kwargs)\u001b[0m\n",
      "\u001b[0m  File \u001b[1;32m/opt/anaconda3/lib/python3.11/site-packages/IPython/core/magics/execution.py:1296\u001b[0m in \u001b[1;35mtime\u001b[0m\n    expr_ast = self.shell.compile.ast_parse(expr)\u001b[0m\n",
      "\u001b[0;36m  File \u001b[0;32m/opt/anaconda3/lib/python3.11/site-packages/IPython/core/compilerop.py:86\u001b[0;36m in \u001b[0;35mast_parse\u001b[0;36m\n\u001b[0;31m    return compile(source, filename, symbol, self.flags | PyCF_ONLY_AST, 1)\u001b[0;36m\n",
      "\u001b[0;36m  File \u001b[0;32m<unknown>:1\u001b[0;36m\u001b[0m\n\u001b[0;31m    num_list[ (num_list) % 10) == 7]\u001b[0m\n\u001b[0m                             ^\u001b[0m\n\u001b[0;31mSyntaxError\u001b[0m\u001b[0;31m:\u001b[0m closing parenthesis ')' does not match opening parenthesis '['\n"
     ]
    }
   ],
   "source": [
    "%%time\n",
    "num_list[ (num_list) % 10) == 7]"
   ]
  },
  {
   "cell_type": "markdown",
   "metadata": {},
   "source": [
    "#### Your turn: Divide each number  in num_list by 2"
   ]
  },
  {
   "cell_type": "code",
   "execution_count": null,
   "metadata": {},
   "outputs": [],
   "source": []
  },
  {
   "cell_type": "code",
   "execution_count": null,
   "metadata": {},
   "outputs": [],
   "source": []
  },
  {
   "cell_type": "code",
   "execution_count": null,
   "metadata": {},
   "outputs": [],
   "source": []
  },
  {
   "cell_type": "markdown",
   "metadata": {},
   "source": [
    "# 2. Questions: lambda functions\n",
    "\n",
    "Two questions:\n",
    "\n",
    "- General syntax (see here for a reference: https://www.w3schools.com/python/python_lambda.asp \n",
    "- How they work in the context of aggregations\n",
    "\n",
    "How is a lambda function different from a \"normal\" user-defined function (that has the syntax def func_name(arg): etc?\n",
    "\n",
    "- Operates similarly to normal user-defined functions in that it can take any # of arguments\n",
    "- Operates differently in that it's an \"anonymous\" function or a function that we don't explicitly name/save in memory"
   ]
  },
  {
   "cell_type": "code",
   "execution_count": 22,
   "metadata": {},
   "outputs": [
    {
     "data": {
      "text/plain": [
       "3"
      ]
     },
     "execution_count": 22,
     "metadata": {},
     "output_type": "execute_result"
    },
    {
     "data": {
      "text/plain": [
       "3"
      ]
     },
     "execution_count": 22,
     "metadata": {},
     "output_type": "execute_result"
    }
   ],
   "source": [
    "def f1(x,y):  # traditional python way\n",
    "    return x+y\n",
    "\n",
    "f2 = lambda x, y: x+y  # lambda way, both work equally\n",
    "\n",
    "f1(2,1)\n",
    "f2(2,1)"
   ]
  },
  {
   "cell_type": "code",
   "execution_count": null,
   "metadata": {},
   "outputs": [],
   "source": []
  },
  {
   "cell_type": "markdown",
   "metadata": {},
   "source": [
    "## 2.1 General syntax for lambda functions"
   ]
  },
  {
   "cell_type": "code",
   "execution_count": 36,
   "metadata": {},
   "outputs": [],
   "source": [
    "### two pools of courses\n",
    "socsci = [\"QSS20\", \"QSS17\", \"GOV10\"]\n",
    "natsci = [\"BIO2\", \"PHYS3\"]\n",
    "\n",
    "\n",
    "## generalize some of the steps\n",
    "## above into a two-arg function\n",
    "## that takes the course prefix\n",
    "## and a list of all courses\n",
    "def filter_courses(prefix,all_courses):\n",
    "    rel_courses = [c for c in all_courses if prefix in c]\n",
    "    return(rel_courses)\n",
    "\n",
    "### a few applications \n",
    "filter_courses(prefix = \"QSS\", all_courses = socsci)\n",
    "filter_courses(prefix = \"QSS\", all_courses = natsci)\n",
    "filter_courses(prefix = \"BIO\", all_courses = natsci)"
   ]
  },
  {
   "cell_type": "code",
   "execution_count": null,
   "metadata": {},
   "outputs": [],
   "source": [
    "## what's the lambda function version of this\n",
    "filter_courses_v2 = lambda prefix, all_courses: [c for c in all_courses if prefix in c]\n",
    "filter_courses_v2(prefix = \"BIO\", all_courses = natsci)\n"
   ]
  },
  {
   "cell_type": "markdown",
   "metadata": {},
   "source": [
    "## 2.2 using alongside agg"
   ]
  },
  {
   "cell_type": "code",
   "execution_count": 43,
   "metadata": {},
   "outputs": [
    {
     "data": {
      "text/plain": [
       "WARD\n",
       "1                  3100 - 3299 BLOCK OF 14TH STREET NW\n",
       "2    [1100 - 1199 BLOCK OF NEW YORK AVENUE NW, 1300...\n",
       "3             5300 - 5399 BLOCK OF WISCONSIN AVENUE NW\n",
       "4                100  - 199 BLOCK OF CARROLL STREET NW\n",
       "5            900 - 999 BLOCK OF RHODE ISLAND AVENUE NE\n",
       "6                       600 - 699 BLOCK OF H STREET NE\n",
       "7                934 - 1099 BLOCK OF EASTERN AVENUE NE\n",
       "8               2300 - 2399 BLOCK OF GOOD HOPE ROAD SE\n",
       "Name: BLOCK, dtype: object"
      ]
     },
     "execution_count": 43,
     "metadata": {},
     "output_type": "execute_result"
    },
    {
     "data": {
      "text/html": [
       "<div>\n",
       "<style scoped>\n",
       "    .dataframe tbody tr th:only-of-type {\n",
       "        vertical-align: middle;\n",
       "    }\n",
       "\n",
       "    .dataframe tbody tr th {\n",
       "        vertical-align: top;\n",
       "    }\n",
       "\n",
       "    .dataframe thead th {\n",
       "        text-align: right;\n",
       "    }\n",
       "</style>\n",
       "<table border=\"1\" class=\"dataframe\">\n",
       "  <thead>\n",
       "    <tr style=\"text-align: right;\">\n",
       "      <th></th>\n",
       "      <th>BLOCK</th>\n",
       "    </tr>\n",
       "    <tr>\n",
       "      <th>WARD</th>\n",
       "      <th></th>\n",
       "    </tr>\n",
       "  </thead>\n",
       "  <tbody>\n",
       "    <tr>\n",
       "      <th>1</th>\n",
       "      <td>3100 - 3299 BLOCK OF 14TH STREET NW</td>\n",
       "    </tr>\n",
       "    <tr>\n",
       "      <th>2</th>\n",
       "      <td>[1100 - 1199 BLOCK OF NEW YORK AVENUE NW, 1300...</td>\n",
       "    </tr>\n",
       "    <tr>\n",
       "      <th>3</th>\n",
       "      <td>5300 - 5399 BLOCK OF WISCONSIN AVENUE NW</td>\n",
       "    </tr>\n",
       "    <tr>\n",
       "      <th>4</th>\n",
       "      <td>100  - 199 BLOCK OF CARROLL STREET NW</td>\n",
       "    </tr>\n",
       "    <tr>\n",
       "      <th>5</th>\n",
       "      <td>900 - 999 BLOCK OF RHODE ISLAND AVENUE NE</td>\n",
       "    </tr>\n",
       "    <tr>\n",
       "      <th>6</th>\n",
       "      <td>600 - 699 BLOCK OF H STREET NE</td>\n",
       "    </tr>\n",
       "    <tr>\n",
       "      <th>7</th>\n",
       "      <td>934 - 1099 BLOCK OF EASTERN AVENUE NE</td>\n",
       "    </tr>\n",
       "    <tr>\n",
       "      <th>8</th>\n",
       "      <td>2300 - 2399 BLOCK OF GOOD HOPE ROAD SE</td>\n",
       "    </tr>\n",
       "  </tbody>\n",
       "</table>\n",
       "</div>"
      ],
      "text/plain": [
       "                                                  BLOCK\n",
       "WARD                                                   \n",
       "1                   3100 - 3299 BLOCK OF 14TH STREET NW\n",
       "2     [1100 - 1199 BLOCK OF NEW YORK AVENUE NW, 1300...\n",
       "3              5300 - 5399 BLOCK OF WISCONSIN AVENUE NW\n",
       "4                 100  - 199 BLOCK OF CARROLL STREET NW\n",
       "5             900 - 999 BLOCK OF RHODE ISLAND AVENUE NE\n",
       "6                        600 - 699 BLOCK OF H STREET NE\n",
       "7                 934 - 1099 BLOCK OF EASTERN AVENUE NE\n",
       "8                2300 - 2399 BLOCK OF GOOD HOPE ROAD SE"
      ]
     },
     "execution_count": 43,
     "metadata": {},
     "output_type": "execute_result"
    }
   ],
   "source": [
    "## use lambda to find modal block in a ward- multiple ways\n",
    "\n",
    "### way 1: subsetting agg syntex\n",
    "df.groupby(\"WARD\")[\"BLOCK\"].agg(lambda x: x.mode())\n",
    "\n",
    "### way 2: dictionary agg syntax\n",
    "df.groupby(\"WARD\").agg({\"BLOCK\": lambda x: x.mode()})\n"
   ]
  },
  {
   "cell_type": "markdown",
   "metadata": {},
   "source": [
    "#### Your turn: Group by WARD and get the mean and standard deviation (std) of X and Y"
   ]
  },
  {
   "cell_type": "code",
   "execution_count": 44,
   "metadata": {},
   "outputs": [
    {
     "ename": "ValueError",
     "evalue": "Cannot subset columns with a tuple with more than one element. Use a list instead.",
     "output_type": "error",
     "traceback": [
      "\u001b[0;31m---------------------------------------------------------------------------\u001b[0m",
      "\u001b[0;31mValueError\u001b[0m                                Traceback (most recent call last)",
      "Cell \u001b[0;32mIn[44], line 1\u001b[0m\n\u001b[0;32m----> 1\u001b[0m df\u001b[38;5;241m.\u001b[39mgroupby(\u001b[38;5;124m\"\u001b[39m\u001b[38;5;124mWARD\u001b[39m\u001b[38;5;124m\"\u001b[39m)[\u001b[38;5;124m\"\u001b[39m\u001b[38;5;124mY\u001b[39m\u001b[38;5;124m\"\u001b[39m,\u001b[38;5;124m\"\u001b[39m\u001b[38;5;124mX\u001b[39m\u001b[38;5;124m\"\u001b[39m]\u001b[38;5;241m.\u001b[39magg([\u001b[38;5;124m\"\u001b[39m\u001b[38;5;124mmean\u001b[39m\u001b[38;5;124m\"\u001b[39m, \u001b[38;5;124m\"\u001b[39m\u001b[38;5;124mstd\u001b[39m\u001b[38;5;124m\"\u001b[39m])\n",
      "File \u001b[0;32m/opt/anaconda3/lib/python3.11/site-packages/pandas/core/groupby/generic.py:1960\u001b[0m, in \u001b[0;36mDataFrameGroupBy.__getitem__\u001b[0;34m(self, key)\u001b[0m\n\u001b[1;32m   1956\u001b[0m \u001b[38;5;66;03m# per GH 23566\u001b[39;00m\n\u001b[1;32m   1957\u001b[0m \u001b[38;5;28;01mif\u001b[39;00m \u001b[38;5;28misinstance\u001b[39m(key, \u001b[38;5;28mtuple\u001b[39m) \u001b[38;5;129;01mand\u001b[39;00m \u001b[38;5;28mlen\u001b[39m(key) \u001b[38;5;241m>\u001b[39m \u001b[38;5;241m1\u001b[39m:\n\u001b[1;32m   1958\u001b[0m     \u001b[38;5;66;03m# if len == 1, then it becomes a SeriesGroupBy and this is actually\u001b[39;00m\n\u001b[1;32m   1959\u001b[0m     \u001b[38;5;66;03m# valid syntax, so don't raise\u001b[39;00m\n\u001b[0;32m-> 1960\u001b[0m     \u001b[38;5;28;01mraise\u001b[39;00m \u001b[38;5;167;01mValueError\u001b[39;00m(\n\u001b[1;32m   1961\u001b[0m         \u001b[38;5;124m\"\u001b[39m\u001b[38;5;124mCannot subset columns with a tuple with more than one element. \u001b[39m\u001b[38;5;124m\"\u001b[39m\n\u001b[1;32m   1962\u001b[0m         \u001b[38;5;124m\"\u001b[39m\u001b[38;5;124mUse a list instead.\u001b[39m\u001b[38;5;124m\"\u001b[39m\n\u001b[1;32m   1963\u001b[0m     )\n\u001b[1;32m   1964\u001b[0m \u001b[38;5;28;01mreturn\u001b[39;00m \u001b[38;5;28msuper\u001b[39m()\u001b[38;5;241m.\u001b[39m\u001b[38;5;21m__getitem__\u001b[39m(key)\n",
      "\u001b[0;31mValueError\u001b[0m: Cannot subset columns with a tuple with more than one element. Use a list instead."
     ]
    }
   ],
   "source": [
    "df.groupby(\"WARD\")[\"Y\",\"X\"].agg([\"mean\", \"std\"])"
   ]
  },
  {
   "cell_type": "code",
   "execution_count": 45,
   "metadata": {},
   "outputs": [
    {
     "ename": "SyntaxError",
     "evalue": "invalid character '“' (U+201C) (4162076367.py, line 1)",
     "output_type": "error",
     "traceback": [
      "\u001b[0;36m  Cell \u001b[0;32mIn[45], line 1\u001b[0;36m\u001b[0m\n\u001b[0;31m    df.groupby(“WARD”).agg({\u001b[0m\n\u001b[0m               ^\u001b[0m\n\u001b[0;31mSyntaxError\u001b[0m\u001b[0;31m:\u001b[0m invalid character '“' (U+201C)\n"
     ]
    }
   ],
   "source": [
    "df.groupby(“WARD”).agg({\n",
    "    “X”: [“mean”, “std”],\n",
    "    “Y”: [“mean”, “std”]})"
   ]
  },
  {
   "cell_type": "code",
   "execution_count": null,
   "metadata": {},
   "outputs": [],
   "source": []
  },
  {
   "cell_type": "code",
   "execution_count": null,
   "metadata": {},
   "outputs": [],
   "source": []
  }
 ],
 "metadata": {
  "kernelspec": {
   "display_name": "Python 3 (ipykernel)",
   "language": "python",
   "name": "python3"
  },
  "language_info": {
   "codemirror_mode": {
    "name": "ipython",
    "version": 3
   },
   "file_extension": ".py",
   "mimetype": "text/x-python",
   "name": "python",
   "nbconvert_exporter": "python",
   "pygments_lexer": "ipython3",
   "version": "3.11.7"
  }
 },
 "nbformat": 4,
 "nbformat_minor": 4
}
